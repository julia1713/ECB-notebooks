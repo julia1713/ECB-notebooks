{
 "cells": [
  {
   "cell_type": "markdown",
   "metadata": {},
   "source": [
    "In the context of the **Integrated Reporting Framework (IReF)** project, I collected data of MALTA that needed to be analyzed and preprocessed.  \n",
    "After having collected some statistics, I generated the outpul file ready to be uploaded to our system. \n",
    "\n",
    "IReF is an ECB project, its aim is to integrate the Eurosystem’s statistical requirements for banks into a single standardised reporting framework that would be applicable across the euro area and that might also be adopted by authorities in other EU Member States.\n",
    "\n",
    "More details can be found here: https://www.ecb.europa.eu/stats/ecb_statistics/co-operation_and_standards/reporting/html/index.en.html"
   ]
  },
  {
   "cell_type": "code",
   "execution_count": 2,
   "metadata": {},
   "outputs": [],
   "source": [
    "import pandas as pd\n",
    "import pyodbc\n",
    "import os\n",
    "import datetime"
   ]
  },
  {
   "cell_type": "code",
   "execution_count": 3,
   "metadata": {},
   "outputs": [],
   "source": [
    "cnxn = pyodbc.connect('DSN=DISC DP Impala 64bit',autocommit=True)\n",
    "cursor = cnxn.cursor()"
   ]
  },
  {
   "cell_type": "code",
   "execution_count": 8,
   "metadata": {},
   "outputs": [],
   "source": [
    "query_cd = '''\n",
    "query here\n",
    "'''"
   ]
  },
  {
   "cell_type": "code",
   "execution_count": 9,
   "metadata": {},
   "outputs": [
    {
     "name": "stderr",
     "output_type": "stream",
     "text": [
      "C:\\Users\\bressan\\AppData\\Local\\Temp\\ipykernel_22104\\2856501524.py:1: UserWarning: pandas only supports SQLAlchemy connectable (engine/connection) or database string URI or sqlite3 DBAPI2 connection. Other DBAPI2 objects are not tested. Please consider using SQLAlchemy.\n",
      "  df =  pd.read_sql_query(query_cd, cnxn)\n"
     ]
    },
    {
     "data": {
      "text/html": [
       "<div>\n",
       "<style scoped>\n",
       "    .dataframe tbody tr th:only-of-type {\n",
       "        vertical-align: middle;\n",
       "    }\n",
       "\n",
       "    .dataframe tbody tr th {\n",
       "        vertical-align: top;\n",
       "    }\n",
       "\n",
       "    .dataframe thead th {\n",
       "        text-align: right;\n",
       "    }\n",
       "</style>\n",
       "<table border=\"1\" class=\"dataframe\">\n",
       "  <thead>\n",
       "    <tr style=\"text-align: right;\">\n",
       "      <th></th>\n",
       "      <th>primary_code</th>\n",
       "      <th>vld_frm</th>\n",
       "      <th>vld_t</th>\n",
       "      <th>cty</th>\n",
       "      <th>cntry</th>\n",
       "      <th>entty_cd</th>\n",
       "      <th>cnf_code</th>\n",
       "      <th>src</th>\n",
       "      <th>esa sector</th>\n",
       "    </tr>\n",
       "  </thead>\n",
       "  <tbody>\n",
       "    <tr>\n",
       "      <th>27846</th>\n",
       "      <td>Not Publicly Available</td>\n",
       "      <td>2021-07-31</td>\n",
       "      <td>9999-12-31</td>\n",
       "      <td>SAN GILJAN</td>\n",
       "      <td>MT</td>\n",
       "      <td>Not Publicly Available</td>\n",
       "      <td>N</td>\n",
       "      <td>STAT</td>\n",
       "      <td>S126</td>\n",
       "    </tr>\n",
       "    <tr>\n",
       "      <th>148886</th>\n",
       "      <td>Not Publicly Available</td>\n",
       "      <td>2017-11-20</td>\n",
       "      <td>2017-11-30</td>\n",
       "      <td>MOSTA</td>\n",
       "      <td>MT</td>\n",
       "      <td>Not Publicly Available</td>\n",
       "      <td>F</td>\n",
       "      <td>STAT</td>\n",
       "      <td>S125</td>\n",
       "    </tr>\n",
       "    <tr>\n",
       "      <th>8487</th>\n",
       "      <td>Not Publicly Available</td>\n",
       "      <td>2019-01-31</td>\n",
       "      <td>2019-08-30</td>\n",
       "      <td>ATTARD</td>\n",
       "      <td>MT</td>\n",
       "      <td>Not Publicly Available</td>\n",
       "      <td>F</td>\n",
       "      <td>STAT</td>\n",
       "      <td>S11</td>\n",
       "    </tr>\n",
       "    <tr>\n",
       "      <th>109014</th>\n",
       "      <td>Not Publicly Available</td>\n",
       "      <td>2018-03-01</td>\n",
       "      <td>9999-12-31</td>\n",
       "      <td>MRIEHEL INDUSTRIAL ZONE</td>\n",
       "      <td>MT</td>\n",
       "      <td>Not Publicly Available</td>\n",
       "      <td>F</td>\n",
       "      <td>STAT</td>\n",
       "      <td>S11</td>\n",
       "    </tr>\n",
       "    <tr>\n",
       "      <th>105907</th>\n",
       "      <td>Not Publicly Available</td>\n",
       "      <td>2019-09-30</td>\n",
       "      <td>2019-12-31</td>\n",
       "      <td>IL-FURJANA</td>\n",
       "      <td>MT</td>\n",
       "      <td>Not Publicly Available</td>\n",
       "      <td>N</td>\n",
       "      <td>STAT</td>\n",
       "      <td>S11</td>\n",
       "    </tr>\n",
       "  </tbody>\n",
       "</table>\n",
       "</div>"
      ],
      "text/plain": [
       "                  primary_code     vld_frm       vld_t  \\\n",
       "27846   Not Publicly Available  2021-07-31  9999-12-31   \n",
       "148886  Not Publicly Available  2017-11-20  2017-11-30   \n",
       "8487    Not Publicly Available  2019-01-31  2019-08-30   \n",
       "109014  Not Publicly Available  2018-03-01  9999-12-31   \n",
       "105907  Not Publicly Available  2019-09-30  2019-12-31   \n",
       "\n",
       "                            cty cntry                entty_cd cnf_code   src  \\\n",
       "27846                SAN GILJAN    MT  Not Publicly Available        N  STAT   \n",
       "148886                    MOSTA    MT  Not Publicly Available        F  STAT   \n",
       "8487                     ATTARD    MT  Not Publicly Available        F  STAT   \n",
       "109014  MRIEHEL INDUSTRIAL ZONE    MT  Not Publicly Available        F  STAT   \n",
       "105907               IL-FURJANA    MT  Not Publicly Available        N  STAT   \n",
       "\n",
       "       esa sector  \n",
       "27846        S126  \n",
       "148886       S125  \n",
       "8487          S11  \n",
       "109014        S11  \n",
       "105907        S11  "
      ]
     },
     "execution_count": 9,
     "metadata": {},
     "output_type": "execute_result"
    }
   ],
   "source": [
    "df =  pd.read_sql_query(query_cd, cnxn)\n",
    "df['primary_code'] = 'Not Publicly Available'\n",
    "df['entty_cd'] = 'Not Publicly Available'\n",
    "df.sample(5)"
   ]
  },
  {
   "cell_type": "code",
   "execution_count": 96,
   "metadata": {},
   "outputs": [],
   "source": [
    "MALTA1 = pd.DataFrame(columns= ['ID','CODE', 'VALIFITYF','VALIDITYT','SOURCE','CONF', 'VALUE', 'REQUEST'])"
   ]
  },
  {
   "cell_type": "code",
   "execution_count": null,
   "metadata": {},
   "outputs": [],
   "source": [
    "#change the confidentiality to FREE for MT values\n",
    "MALTA_TOT= pd.DataFrame({'ID': ['RIAD_TYP_ENTTY_CD_C' for i in range(len(df))],\n",
    "                              'CODE': list(df['entty_riad_cd']),\n",
    "                              'VALIFITYF': list(df['vld_frm']), \n",
    "                              'VALIFITYT': list(df['vld_t']),\n",
    "                              'SOURCE': list(df['src']),\n",
    "                              'CONF': ['F' for i in range(len(df))],\n",
    "                              'VALUE': list(df['entty_cd']),\n",
    "                              'REQUEST': ['UP' for i in range(len(df))]\n",
    "                             })"
   ]
  },
  {
   "cell_type": "code",
   "execution_count": 121,
   "metadata": {},
   "outputs": [],
   "source": [
    "output_path_upload = 'C:/Users/USER/Desktop/MALTA_ISC.xlsx'\n",
    "P= pd.DataFrame({'1' : ['Survey','Sender','MessageID','timeProduction'], '2':['FILEP','MT', '10001', '2017-01-18T12:00:00']})\n",
    "with pd.ExcelWriter(output_path_upload) as writer:\n",
    "    P.to_excel(writer, sheet_name='FILEP', header= None, index=None)\n",
    "    MALTA_TOT.to_excel(writer, sheet_name='FILEP', index=None, startrow=4)"
   ]
  },
  {
   "cell_type": "code",
   "execution_count": 18,
   "metadata": {},
   "outputs": [
    {
     "data": {
      "text/html": [
       "<div>\n",
       "<style scoped>\n",
       "    .dataframe tbody tr th:only-of-type {\n",
       "        vertical-align: middle;\n",
       "    }\n",
       "\n",
       "    .dataframe tbody tr th {\n",
       "        vertical-align: top;\n",
       "    }\n",
       "\n",
       "    .dataframe thead th {\n",
       "        text-align: right;\n",
       "    }\n",
       "</style>\n",
       "<table border=\"1\" class=\"dataframe\">\n",
       "  <thead>\n",
       "    <tr style=\"text-align: right;\">\n",
       "      <th></th>\n",
       "      <th>ENTTY_RIAD_CD</th>\n",
       "      <th>OBS_VALUE</th>\n",
       "      <th>INSTTTNL_SCTR_DTL</th>\n",
       "    </tr>\n",
       "  </thead>\n",
       "  <tbody>\n",
       "    <tr>\n",
       "      <th>1627</th>\n",
       "      <td>Not Publicly Available</td>\n",
       "      <td>S126</td>\n",
       "      <td>S126_A</td>\n",
       "    </tr>\n",
       "    <tr>\n",
       "      <th>2110</th>\n",
       "      <td>Not Publicly Available</td>\n",
       "      <td>S11</td>\n",
       "      <td>-4</td>\n",
       "    </tr>\n",
       "    <tr>\n",
       "      <th>2852</th>\n",
       "      <td>Not Publicly Available</td>\n",
       "      <td>S127</td>\n",
       "      <td>S127_A</td>\n",
       "    </tr>\n",
       "    <tr>\n",
       "      <th>4801</th>\n",
       "      <td>Not Publicly Available</td>\n",
       "      <td>S11</td>\n",
       "      <td>-4</td>\n",
       "    </tr>\n",
       "    <tr>\n",
       "      <th>7552</th>\n",
       "      <td>Not Publicly Available</td>\n",
       "      <td>S11</td>\n",
       "      <td>-4</td>\n",
       "    </tr>\n",
       "  </tbody>\n",
       "</table>\n",
       "</div>"
      ],
      "text/plain": [
       "               ENTTY_RIAD_CD OBS_VALUE INSTTTNL_SCTR_DTL\n",
       "1627  Not Publicly Available      S126            S126_A\n",
       "2110  Not Publicly Available       S11                -4\n",
       "2852  Not Publicly Available      S127            S127_A\n",
       "4801  Not Publicly Available       S11                -4\n",
       "7552  Not Publicly Available       S11                -4"
      ]
     },
     "execution_count": 18,
     "metadata": {},
     "output_type": "execute_result"
    }
   ],
   "source": [
    "fromBO = pd.read_csv('DETAILS.csv')\n",
    "fromBO.sample(5)"
   ]
  },
  {
   "cell_type": "code",
   "execution_count": null,
   "metadata": {},
   "outputs": [],
   "source": [
    "merged = pd.merge(fromBO, MALTA_TOT, on=['primary_code'], how='inner')\n",
    "merged"
   ]
  },
  {
   "cell_type": "code",
   "execution_count": 149,
   "metadata": {},
   "outputs": [],
   "source": [
    "#output to be uploaded to the db\n",
    "merged.to_csv('MT_merged.csv')"
   ]
  }
 ],
 "metadata": {
  "kernelspec": {
   "display_name": "Python 3 (ipykernel)",
   "language": "python",
   "name": "python3"
  },
  "language_info": {
   "codemirror_mode": {
    "name": "ipython",
    "version": 3
   },
   "file_extension": ".py",
   "mimetype": "text/x-python",
   "name": "python",
   "nbconvert_exporter": "python",
   "pygments_lexer": "ipython3",
   "version": "3.9.7"
  }
 },
 "nbformat": 4,
 "nbformat_minor": 2
}
